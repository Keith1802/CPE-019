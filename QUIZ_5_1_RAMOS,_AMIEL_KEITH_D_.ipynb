{
  "nbformat": 4,
  "nbformat_minor": 0,
  "metadata": {
    "colab": {
      "provenance": [],
      "authorship_tag": "ABX9TyNR0ZWsFHOLCNDo6H7H9EhX",
      "include_colab_link": true
    },
    "kernelspec": {
      "name": "python3",
      "display_name": "Python 3"
    },
    "language_info": {
      "name": "python"
    }
  },
  "cells": [
    {
      "cell_type": "markdown",
      "metadata": {
        "id": "view-in-github",
        "colab_type": "text"
      },
      "source": [
        "<a href=\"https://colab.research.google.com/github/Keith1802/CPE-019/blob/main/QUIZ_5_1_RAMOS%2C_AMIEL_KEITH_D_.ipynb\" target=\"_parent\"><img src=\"https://colab.research.google.com/assets/colab-badge.svg\" alt=\"Open In Colab\"/></a>"
      ]
    },
    {
      "cell_type": "markdown",
      "source": [
        "<br> **Name:** Ramos, Amiel Keith D.\n",
        "<br> **Course and Section:** CPE 019 - CPE32S4\n",
        "<br> **Date of Submission:** February 05, 2025\n",
        "<br> **Instructor:** Dr. Richard Monreal"
      ],
      "metadata": {
        "id": "3vEwHawSc1ai"
      }
    },
    {
      "cell_type": "markdown",
      "source": [
        "# **SET A**"
      ],
      "metadata": {
        "id": "TQfvx-mkc4-C"
      }
    },
    {
      "cell_type": "code",
      "source": [
        "import pandas as pd\n",
        "import numpy as np\n",
        "\n",
        "exam_data = {'name': ['Anastasia', 'Dima', 'Katherine', 'James', 'Emily', 'Michael', 'Matthew', 'Laura', 'Kevin', 'Jonas'],\n",
        "             'score': [12.5, 9, 16.5, np.nan, 9, 20, 14.5, np.nan, 8, 19],\n",
        "             'attempts': [1, 3, 2, 3, 2, 3, 1, 1, 2, 1],\n",
        "             'qualify': ['yes', 'no', 'yes', 'no', 'no', 'yes', 'yes', 'no', 'no', 'yes']}\n",
        "labels = ['a', 'b', 'c', 'd', 'e', 'f', 'g', 'h', 'i', 'j']\n",
        "\n",
        "df = pd.DataFrame(exam_data, index=labels)\n",
        "\n",
        "num_rows = df.shape[0]\n",
        "num_cols = df.shape[1]\n",
        "\n",
        "print(\"Number of rows:\", num_rows)\n",
        "print(\"Number of columns:\", num_cols)"
      ],
      "metadata": {
        "colab": {
          "base_uri": "https://localhost:8080/"
        },
        "id": "sBUp_pJGc3_j",
        "outputId": "0355a04c-d456-4618-99f1-6d6254ed952f"
      },
      "execution_count": 2,
      "outputs": [
        {
          "output_type": "stream",
          "name": "stdout",
          "text": [
            "Number of rows: 10\n",
            "Number of columns: 4\n"
          ]
        }
      ]
    },
    {
      "cell_type": "markdown",
      "source": [
        "**Conclusion**"
      ],
      "metadata": {
        "id": "LKFb6mMye7cN"
      }
    },
    {
      "cell_type": "markdown",
      "source": [
        "My learnings for this Quiz is, I think of this code as asking a computer to look at a table and tell you its dimensions. It uses pandas, a handy tool for handling tables, to quickly count the number of rows and columns."
      ],
      "metadata": {
        "id": "DVygmzbqfAqT"
      }
    }
  ]
}